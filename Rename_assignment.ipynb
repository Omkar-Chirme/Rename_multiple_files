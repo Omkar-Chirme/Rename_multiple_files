{
 "cells": [
  {
   "cell_type": "code",
   "execution_count": 6,
   "metadata": {},
   "outputs": [
    {
     "name": "stdout",
     "output_type": "stream",
     "text": [
      "Requirement already satisfied: python-docx in c:\\users\\omkar\\appdata\\local\\programs\\python\\python39\\lib\\site-packages (0.8.11)\n",
      "Requirement already satisfied: lxml>=2.3.2 in c:\\users\\omkar\\appdata\\local\\programs\\python\\python39\\lib\\site-packages (from python-docx) (4.7.1)\n",
      "Note: you may need to restart the kernel to use updated packages.\n"
     ]
    },
    {
     "name": "stderr",
     "output_type": "stream",
     "text": [
      "WARNING: You are using pip version 21.3; however, version 21.3.1 is available.\n",
      "You should consider upgrading via the 'C:\\Users\\Omkar\\AppData\\Local\\Programs\\Python\\Python39\\python.exe -m pip install --upgrade pip' command.\n"
     ]
    }
   ],
   "source": [
    "def len_bef_num(string):\n",
    "\t'''\n",
    "\tReturns the string before any numberic character in it. The string is returned after stipping off '_'\n",
    "\t'''\n",
    "\tlength=len(string)\n",
    "\tfor i in string:\n",
    "\t\tif i.isnumeric():\n",
    "\t\t \n",
    "\t\t\tlength = string.find(i) \n",
    "\t\t\tbreak\n",
    "\treturn string[:length:].replace('_',\"\")\n",
    "\n",
    "def rename_file(name):\n",
    "\tnew_name = name.replace(\"(\",'').replace(')','')\n",
    "\tos.rename(name,new_name)\n",
    "\treturn new_name\n",
    "\n",
    "%pip install python-docx\n",
    "\n",
    "import os\n",
    "\n",
    "import shutil\n",
    "\n",
    "from docx import Document \n",
    "\n",
    " # create an instance of a word document \n",
    "newdoc = Document()\n",
    "\n",
    "for i in os.listdir():\n",
    "\tif i.find('.docx') >= 0: # rename the file by removing '(' and ')' \n",
    "\t\tnew_name = rename_file(i)\n",
    "\t\tfolder=len_bef_num(new_name) \n",
    "\t\tif not os.path.isdir(folder):\n",
    "\t\t\tos.mkdir(folder)\n",
    "\t\t# add a heading of level 2 \n",
    "\t\tnewdoc.add_heading(new_name, 2)\n",
    "\t\t# create an instance of a\n",
    "\t\t#word document we want to open\n",
    "\n",
    "\t\tdoc = Document(new_name)\n",
    "\t\t# add a paragraph and store\n",
    "\t\t# the object in a variable\n",
    "\t\tfor para in doc.paragraphs: \n",
    "\t\t\tdoc_para = newdoc.add_paragraph(para.text)\n",
    "\n",
    "\n",
    "\t\t# add a page break to start a new page newdoc.add_page_break()\n",
    "\t\tnewdoc.add_page_break()\n",
    "\n",
    "\t\tshutil.move(os.getcwd()+'\\\\'+new_name,os.getcwd()+'\\\\'+folder)\n",
    "#now save the docuent to location \n",
    "newdoc.save('Master document of all assignments.docx')"
   ]
  },
  {
   "cell_type": "code",
   "execution_count": 4,
   "metadata": {},
   "outputs": [],
   "source": [
    "import os\n"
   ]
  },
  {
   "cell_type": "code",
   "execution_count": 4,
   "metadata": {},
   "outputs": [],
   "source": [
    "os.chdir(r'C:\\Users\\Omkar\\Desktop\\Python\\_ML_\\iNeuron\\Assignent_merge')"
   ]
  },
  {
   "cell_type": "code",
   "execution_count": 5,
   "metadata": {},
   "outputs": [
    {
     "data": {
      "text/plain": [
       "'C:\\\\Users\\\\Omkar\\\\Desktop\\\\Python\\\\_ML_\\\\iNeuron\\\\Assignent_merge'"
      ]
     },
     "execution_count": 5,
     "metadata": {},
     "output_type": "execute_result"
    }
   ],
   "source": [
    "pwd"
   ]
  },
  {
   "cell_type": "code",
   "execution_count": null,
   "metadata": {},
   "outputs": [],
   "source": []
  }
 ],
 "metadata": {
  "interpreter": {
   "hash": "55cdaa35f3bf328455cc90222d006bc0ecee02538e8f35de15acd39e8589c932"
  },
  "kernelspec": {
   "display_name": "Python 3.8.8 64-bit ('base': conda)",
   "language": "python",
   "name": "python3"
  },
  "language_info": {
   "codemirror_mode": {
    "name": "ipython",
    "version": 3
   },
   "file_extension": ".py",
   "mimetype": "text/x-python",
   "name": "python",
   "nbconvert_exporter": "python",
   "pygments_lexer": "ipython3",
   "version": "3.9.5"
  },
  "orig_nbformat": 4
 },
 "nbformat": 4,
 "nbformat_minor": 2
}
